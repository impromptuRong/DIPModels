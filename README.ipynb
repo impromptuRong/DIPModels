{
 "cells": [
  {
   "cell_type": "markdown",
   "metadata": {},
   "source": [
    "# Digital Image Processing Models\n",
    "\n",
    "This package collects deep learning models for general purpose image processing. \n",
    "\n",
    "Currently the package support following models:\n",
    "* An wrapper for image classification model on different backbone.\n",
    "* [Mask R-CNN](https://arxiv.org/abs/1703.06870) with FPN on ResNet101 from [matterport](https://github.com/matterport/Mask_RCNN).\n",
    "* [UNet](https://arxiv.org/abs/1505.04597)\n",
    "\n"
   ]
  },
  {
   "cell_type": "markdown",
   "metadata": {},
   "source": []
  }
 ],
 "metadata": {
  "kernelspec": {
   "display_name": "Python 3",
   "language": "python",
   "name": "python3"
  },
  "language_info": {
   "codemirror_mode": {
    "name": "ipython",
    "version": 3
   },
   "file_extension": ".py",
   "mimetype": "text/x-python",
   "name": "python",
   "nbconvert_exporter": "python",
   "pygments_lexer": "ipython3",
   "version": "3.6.2"
  }
 },
 "nbformat": 4,
 "nbformat_minor": 2
}
